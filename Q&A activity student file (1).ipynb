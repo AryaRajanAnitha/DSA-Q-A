{
 "cells": [
  {
   "cell_type": "markdown",
   "metadata": {},
   "source": [
    "## 1. Complete the following code to find the area of an equilateral triangle. Output should be as displayed"
   ]
  },
  {
   "cell_type": "code",
   "execution_count": 3,
   "metadata": {},
   "outputs": [
    {
     "name": "stdout",
     "output_type": "stream",
     "text": [
      "Enter the side of the equilateral triangle: 5\n",
      "Area of the equilateral triangle 10.825317547305483\n"
     ]
    }
   ],
   "source": [
    "import math\n",
    "side = float(input(\"Enter the side of the equilateral triangle: \"))\n",
    "area = ((math.sqrt(3))/4)*pow(side,2)\n",
    "print(\"Area of the equilateral triangle\",area)\n"
   ]
  },
  {
   "cell_type": "markdown",
   "metadata": {},
   "source": [
    "## 2. Write a program to count the number of each characters in a string"
   ]
  },
  {
   "cell_type": "code",
   "execution_count": 13,
   "metadata": {},
   "outputs": [
    {
     "name": "stdout",
     "output_type": "stream",
     "text": [
      "Enter the string sample\n",
      "number of all characters in the String:\n",
      " {'s': 1, 'a': 1, 'p': 1, 'l': 1, 'e': 1, 'm': 1}\n"
     ]
    }
   ],
   "source": [
    "a=input(\"Enter the string \")\n",
    "out = {x : a.count(x) for x in set(a)} \n",
    "print (\"number of all characters in the String:\\n \"+ str(out))\n"
   ]
  },
  {
   "cell_type": "markdown",
   "metadata": {},
   "source": [
    "## 3. Write a program to find the area and perimeter of a rectangle using functions"
   ]
  },
  {
   "cell_type": "code",
   "execution_count": 16,
   "metadata": {},
   "outputs": [
    {
     "name": "stdout",
     "output_type": "stream",
     "text": [
      "Enter the length of rectangle: 2\n",
      "enter the width of rectangle: 3\n",
      "area of rectangle =  6.0\n",
      "perimeter of rectangle =  10.0\n"
     ]
    }
   ],
   "source": [
    "length=float(input(\"Enter the length of rectangle: \"))\n",
    "width=float(input(\"enter the width of rectangle: \"))\n",
    "def rectangle(length,width):\n",
    "    area =length * width\n",
    "    perimeter =2 * (length+width)\n",
    "    print(\"area of rectangle = \",area) \n",
    "    print(\"perimeter of rectangle = \",perimeter)\n",
    "    \n",
    "rectangle(length,width) \n"
   ]
  },
  {
   "cell_type": "markdown",
   "metadata": {},
   "source": [
    "## 4. Write a program to print the fibonacci series till a specified number"
   ]
  },
  {
   "cell_type": "code",
   "execution_count": 32,
   "metadata": {},
   "outputs": [
    {
     "name": "stdout",
     "output_type": "stream",
     "text": [
      "Enter the Range Number: 4\n",
      "0\n",
      "1\n",
      "1\n",
      "2\n"
     ]
    }
   ],
   "source": [
    "num = int(input(\"Enter the Range Number: \"))\n",
    "First_val = 0\n",
    "Second_val = 1\n",
    "for n in range(0, num):\n",
    "            if(n <= 1):\n",
    "                        temp = n\n",
    "            else:\n",
    "                        temp = First_val + Second_val\n",
    "                        First_val = Second_val\n",
    "                        Second_val = temp\n",
    "            print(temp)"
   ]
  },
  {
   "cell_type": "markdown",
   "metadata": {},
   "source": [
    "## 5. Complete the following code to find the minimum of 3 number using conditional statements. Output should be as displayed"
   ]
  },
  {
   "cell_type": "code",
   "execution_count": 35,
   "metadata": {},
   "outputs": [
    {
     "name": "stdout",
     "output_type": "stream",
     "text": [
      "Enter three numbers followed by  : 23 45 50\n",
      "First number : 23\n",
      "Second number : 45\n",
      "Third number : 50\n",
      "23  is smallest\n"
     ]
    }
   ],
   "source": [
    "a,b,c = input(\"Enter three numbers followed by  : \").split()\n",
    "\n",
    "print(\"First number :\",a)\n",
    "print(\"Second number :\",b)\n",
    "print(\"Third number :\",c)\n",
    "if(a==b==c): \n",
    "    print(\"Entered numbers are equal!!!\")\n",
    "elif(a<b and a<c):\n",
    "    print(a,\" is smallest\")\n",
    "elif(b<a and b<c):\n",
    "    print(b,\" is smallest\")\n",
    "else:\n",
    "    print(c,\" is smallest\")"
   ]
  },
  {
   "cell_type": "markdown",
   "metadata": {},
   "source": [
    "## 6. Write a program to print star pyramind. The number of rows should be taken as input from the user"
   ]
  },
  {
   "cell_type": "code",
   "execution_count": 45,
   "metadata": {},
   "outputs": [
    {
     "name": "stdout",
     "output_type": "stream",
     "text": [
      "Enter the number of rows7\n",
      "*  \n",
      "* *  \n",
      "* * *  \n",
      "* * * *  \n",
      "* * * * *  \n",
      "* * * * * *  \n",
      "* * * * * * *  \n"
     ]
    }
   ],
   "source": [
    "num=int(input(\"Enter the number of rows\"))\n",
    "for i in range(0, num):\n",
    "    for j in range(0, i + 1):\n",
    "        print(\"*\", end=' ')\n",
    "    print(\" \")"
   ]
  },
  {
   "cell_type": "markdown",
   "metadata": {},
   "source": [
    "## 7. Complete the following code to convert hour into seconds. Output should be as displayed"
   ]
  },
  {
   "cell_type": "code",
   "execution_count": 37,
   "metadata": {},
   "outputs": [
    {
     "name": "stdout",
     "output_type": "stream",
     "text": [
      "Enter time in Hours24\n",
      "24  Hour is equal to 86400  Seconds\n"
     ]
    }
   ],
   "source": [
    "def to_seconds(t):\n",
    "    t=t*60*60\n",
    "    return t\n",
    "time_in_hours = int(input(\"Enter time in Hours\"))\n",
    "print(time_in_hours ,\" Hour is equal to\" ,to_seconds(time_in_hours) ,\" Seconds\")\n",
    "#to_seconds(t)"
   ]
  },
  {
   "cell_type": "markdown",
   "metadata": {},
   "source": [
    "## 8. Write a program to print multiplication table as below"
   ]
  },
  {
   "cell_type": "code",
   "execution_count": 38,
   "metadata": {},
   "outputs": [
    {
     "name": "stdout",
     "output_type": "stream",
     "text": [
      "Enter a number to find the multiplication table :67\n",
      "1  x  67  =  67\n",
      "2  x  67  =  134\n",
      "3  x  67  =  201\n",
      "4  x  67  =  268\n",
      "5  x  67  =  335\n",
      "6  x  67  =  402\n",
      "7  x  67  =  469\n",
      "8  x  67  =  536\n",
      "9  x  67  =  603\n",
      "10  x  67  =  670\n"
     ]
    }
   ],
   "source": [
    "n=int(input('Enter a number to find the multiplication table :'))\n",
    "for i in range(1,11):\n",
    "    print(i,' x ',n,' = ',n*i)"
   ]
  },
  {
   "cell_type": "markdown",
   "metadata": {},
   "source": [
    "## 9. Write a program to take your 5 favorite food as list and print each as 'I like Biriyani'"
   ]
  },
  {
   "cell_type": "code",
   "execution_count": 43,
   "metadata": {},
   "outputs": [
    {
     "name": "stdout",
     "output_type": "stream",
     "text": [
      "Enter your five favorite foodbiriyani pizza burger pasta chicken \n",
      "I like  biriyani\n",
      "I like  pizza\n",
      "I like  burger\n",
      "I like  pasta\n",
      "I like  chicken\n"
     ]
    }
   ],
   "source": [
    "fav_food=input(\"Enter your five favorite food\").split()\n",
    "for i  in range(0,5):\n",
    "    print(\"I like \",fav_food[i])"
   ]
  },
  {
   "cell_type": "code",
   "execution_count": null,
   "metadata": {},
   "outputs": [],
   "source": []
  }
 ],
 "metadata": {
  "kernelspec": {
   "display_name": "Python 3 (ipykernel)",
   "language": "python",
   "name": "python3"
  },
  "language_info": {
   "codemirror_mode": {
    "name": "ipython",
    "version": 3
   },
   "file_extension": ".py",
   "mimetype": "text/x-python",
   "name": "python",
   "nbconvert_exporter": "python",
   "pygments_lexer": "ipython3",
   "version": "3.9.7"
  }
 },
 "nbformat": 4,
 "nbformat_minor": 4
}
